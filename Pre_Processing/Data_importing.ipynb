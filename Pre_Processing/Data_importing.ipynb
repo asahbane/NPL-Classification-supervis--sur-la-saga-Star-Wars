{
 "cells": [
  {
   "cell_type": "markdown",
   "metadata": {},
   "source": [
    "Dans un premier temps, nous avons pris un petit extrait du texte de Star Wars pour faire les premières manipumations. Nous avons remarqué que les discours des personnages sont décalés de 25 espaces, suivis d'un espace, c'est pour cela qu'on a défini 3 groupes dans la fonction re.compiler. On a ensuite appliqué la fonction pattern.finditer à notre texte de base pour enfin demander le groupe 2 en sortie, ce qui nous a permis d'obtenir la partie texte qui nous intéresse notamment le nom des personnages suivi de son discours. ( données brutes + texte composé de nom de dialogue et de didascalie + on s'intéresse uniquement aux personnages et à leurs dialogues CE N'EST PAS UN DATAFRAME ( données structurées faciles à exploiter ) )\n",
    "\n"
   ]
  },
  {
   "cell_type": "code",
   "execution_count": 1,
   "metadata": {},
   "outputs": [],
   "source": [
    "import pandas as pd\n",
    "import numpy as np\n",
    "import re\n",
    "import os"
   ]
  },
  {
   "cell_type": "code",
   "execution_count": null,
   "metadata": {},
   "outputs": [],
   "source": []
  },
  {
   "cell_type": "code",
   "execution_count": 2,
   "metadata": {
    "scrolled": false
   },
   "outputs": [],
   "source": [
    "\n",
    "def magic(rawdata, pattern, pattern_name, delete_top = None, delete_bottom = None):\n",
    "    '''\n",
    "    prend comme entrées une base de données sous forme d'un fichier texte, et des chaines de caractères qui caractèrisent\n",
    "    les parties recherchées (un fichier texte), et sort une dataframe des éléments recherchées\n",
    "    '''\n",
    "    ## pattern doit étre raw string et donc procéder par la lettre r\n",
    "    ## exemple pattern = r'covid-19 # on va tous mourir mdr'\n",
    "    x = pattern, pattern_name\n",
    "    pattern = re.compile(x[0])\n",
    "    matches = pattern.finditer(rawdata)\n",
    "    data = []\n",
    "    for match in matches:\n",
    "        data.append(match.group(2))\n",
    "    ## si demandé, on enlève le nombre demandé des promiers lignes\n",
    "    if delete_top:\n",
    "        data = data[delete_top:]\n",
    "    ## si demandé, on enlève le nombre demandé des derniers lignes\n",
    "    if delete_bottom:\n",
    "        data = data[:-delete_bottom]\n",
    "    names =[]\n",
    "    pattern2 = re.compile(x[1])\n",
    "    for i in data :\n",
    "        matches = pattern2.finditer(i)\n",
    "        for match in matches :\n",
    "            names.append(match.group(2))\n",
    "    raw_names =[]\n",
    "    for j in data :\n",
    "        matches = pattern2.finditer(j)\n",
    "        for match in matches :\n",
    "            raw_names.append(match.group(0))\n",
    "    paroles=[]\n",
    "    list=[]\n",
    "    for item in data[1:]:\n",
    "        if item in raw_names:\n",
    "            paroles.append(list)\n",
    "            list=[]\n",
    "        else:\n",
    "            list.append(item)\n",
    "    paroles.append(list)\n",
    "    for k in range(len(paroles)):\n",
    "        paroles[k]=''.join(paroles[k])\n",
    "    df = pd.DataFrame(zip(names, paroles), columns =['Name', 'parole']) \n",
    "    return df\n"
   ]
  },
  {
   "cell_type": "markdown",
   "metadata": {},
   "source": [
    "# A New Hope"
   ]
  },
  {
   "cell_type": "code",
   "execution_count": 3,
   "metadata": {},
   "outputs": [],
   "source": [
    "## importation des données\n",
    "os.path.join(os.getcwd(), '..')\n",
    "tmp = os.path.abspath(os.path.join(os.getcwd(), '..'))\n",
    "path = os.path.join(tmp, 'Data', 'A_New_Hope_Raw.txt')\n",
    "temp = open(path, \"r\")\n",
    "rawdata1 = temp.read()"
   ]
  },
  {
   "cell_type": "code",
   "execution_count": 4,
   "metadata": {
    "scrolled": false
   },
   "outputs": [
    {
     "data": {
      "text/html": [
       "<div>\n",
       "<style scoped>\n",
       "    .dataframe tbody tr th:only-of-type {\n",
       "        vertical-align: middle;\n",
       "    }\n",
       "\n",
       "    .dataframe tbody tr th {\n",
       "        vertical-align: top;\n",
       "    }\n",
       "\n",
       "    .dataframe thead th {\n",
       "        text-align: right;\n",
       "    }\n",
       "</style>\n",
       "<table border=\"1\" class=\"dataframe\">\n",
       "  <thead>\n",
       "    <tr style=\"text-align: right;\">\n",
       "      <th></th>\n",
       "      <th>Name</th>\n",
       "      <th>parole</th>\n",
       "    </tr>\n",
       "  </thead>\n",
       "  <tbody>\n",
       "    <tr>\n",
       "      <th>0</th>\n",
       "      <td>THREEPIO</td>\n",
       "      <td>Did you hear that? They've shut down the main ...</td>\n",
       "    </tr>\n",
       "    <tr>\n",
       "      <th>1</th>\n",
       "      <td>THREEPIO</td>\n",
       "      <td>We're doomed!</td>\n",
       "    </tr>\n",
       "    <tr>\n",
       "      <th>2</th>\n",
       "      <td>THREEPIO</td>\n",
       "      <td>There'll be no escape for the Princess this time.</td>\n",
       "    </tr>\n",
       "    <tr>\n",
       "      <th>3</th>\n",
       "      <td>THREEPIO</td>\n",
       "      <td>What's that?</td>\n",
       "    </tr>\n",
       "    <tr>\n",
       "      <th>4</th>\n",
       "      <td>THREEPIO</td>\n",
       "      <td>I should have known better than to trust the l...</td>\n",
       "    </tr>\n",
       "    <tr>\n",
       "      <th>...</th>\n",
       "      <td>...</td>\n",
       "      <td>...</td>\n",
       "    </tr>\n",
       "    <tr>\n",
       "      <th>997</th>\n",
       "      <td>LUKE</td>\n",
       "      <td>Oh, no!</td>\n",
       "    </tr>\n",
       "    <tr>\n",
       "      <th>998</th>\n",
       "      <td>THREEPIO</td>\n",
       "      <td>Oh, my! Artoo! Can you hear me? Say something!...</td>\n",
       "    </tr>\n",
       "    <tr>\n",
       "      <th>999</th>\n",
       "      <td>TECHNICIAN</td>\n",
       "      <td>We'll get to work on him right away.</td>\n",
       "    </tr>\n",
       "    <tr>\n",
       "      <th>1000</th>\n",
       "      <td>THREEPIO</td>\n",
       "      <td>You must repair him! Sir, if any of my circuit...</td>\n",
       "    </tr>\n",
       "    <tr>\n",
       "      <th>1001</th>\n",
       "      <td>LUKE</td>\n",
       "      <td>He'll be all right.</td>\n",
       "    </tr>\n",
       "  </tbody>\n",
       "</table>\n",
       "<p>1002 rows × 2 columns</p>\n",
       "</div>"
      ],
      "text/plain": [
       "            Name                                             parole\n",
       "0       THREEPIO  Did you hear that? They've shut down the main ...\n",
       "1       THREEPIO                                      We're doomed!\n",
       "2       THREEPIO  There'll be no escape for the Princess this time.\n",
       "3       THREEPIO                                       What's that?\n",
       "4       THREEPIO  I should have known better than to trust the l...\n",
       "...          ...                                                ...\n",
       "997         LUKE                                            Oh, no!\n",
       "998     THREEPIO  Oh, my! Artoo! Can you hear me? Say something!...\n",
       "999   TECHNICIAN               We'll get to work on him right away.\n",
       "1000    THREEPIO  You must repair him! Sir, if any of my circuit...\n",
       "1001        LUKE                                He'll be all right.\n",
       "\n",
       "[1002 rows x 2 columns]"
      ]
     },
     "execution_count": 4,
     "metadata": {},
     "output_type": "execute_result"
    }
   ],
   "source": [
    "df1 = magic(rawdata1, r'(\\s{25})(.+)(\\s)', r'(\\s{14}|\\s{13})(.+)', delete_top = 11, delete_bottom = 2 )\n",
    "df1"
   ]
  },
  {
   "cell_type": "code",
   "execution_count": 5,
   "metadata": {},
   "outputs": [],
   "source": [
    "## saving the data frame so we can load it elsewhere\n",
    "os.path.join(os.getcwd(), '..')\n",
    "tmp1 = os.path.abspath(os.path.join(os.getcwd(), '..'))\n",
    "path = os.path.join(tmp, 'Data', 'half_pre-processed_data_1.csv')\n",
    "\n",
    "df1.to_csv(path, index=False)"
   ]
  },
  {
   "cell_type": "markdown",
   "metadata": {},
   "source": [
    "# The Empire strikes Back "
   ]
  },
  {
   "cell_type": "code",
   "execution_count": 6,
   "metadata": {},
   "outputs": [],
   "source": [
    "## importation des données\n",
    "os.path.join(os.getcwd(), '..')\n",
    "tmp1 = os.path.abspath(os.path.join(os.getcwd(), '..'))\n",
    "path = os.path.join(tmp, 'Data', 'The_Empire_strikes_Back_Raw.txt')\n",
    "temp = open(path, \"r\")\n",
    "rawdata2 = temp.read()\n"
   ]
  },
  {
   "cell_type": "code",
   "execution_count": 7,
   "metadata": {
    "scrolled": true
   },
   "outputs": [
    {
     "data": {
      "text/html": [
       "<div>\n",
       "<style scoped>\n",
       "    .dataframe tbody tr th:only-of-type {\n",
       "        vertical-align: middle;\n",
       "    }\n",
       "\n",
       "    .dataframe tbody tr th {\n",
       "        vertical-align: top;\n",
       "    }\n",
       "\n",
       "    .dataframe thead th {\n",
       "        text-align: right;\n",
       "    }\n",
       "</style>\n",
       "<table border=\"1\" class=\"dataframe\">\n",
       "  <thead>\n",
       "    <tr style=\"text-align: right;\">\n",
       "      <th></th>\n",
       "      <th>Name</th>\n",
       "      <th>parole</th>\n",
       "    </tr>\n",
       "  </thead>\n",
       "  <tbody>\n",
       "    <tr>\n",
       "      <th>0</th>\n",
       "      <td>LUKE</td>\n",
       "      <td>Echo Three to Echo Seven.  Han, old buddy, do ...</td>\n",
       "    </tr>\n",
       "    <tr>\n",
       "      <th>1</th>\n",
       "      <td>HAN</td>\n",
       "      <td>Loud and clear, kid.  What's up?</td>\n",
       "    </tr>\n",
       "    <tr>\n",
       "      <th>2</th>\n",
       "      <td>LUKE</td>\n",
       "      <td>Well, I finished my circle.  I don't pick up a...</td>\n",
       "    </tr>\n",
       "    <tr>\n",
       "      <th>3</th>\n",
       "      <td>HAN</td>\n",
       "      <td>There isn't enough life on this ice cube to fi...</td>\n",
       "    </tr>\n",
       "    <tr>\n",
       "      <th>4</th>\n",
       "      <td>LUKE</td>\n",
       "      <td>Right.  I'll see you shortly.  There's a meteo...</td>\n",
       "    </tr>\n",
       "    <tr>\n",
       "      <th>...</th>\n",
       "      <td>...</td>\n",
       "      <td>...</td>\n",
       "    </tr>\n",
       "    <tr>\n",
       "      <th>833</th>\n",
       "      <td>LUKE</td>\n",
       "      <td>I'll meet you at the rendezvous point on Tatoo...</td>\n",
       "    </tr>\n",
       "    <tr>\n",
       "      <th>834</th>\n",
       "      <td>LANDO</td>\n",
       "      <td>Princess, we'll find Han.  I promise.</td>\n",
       "    </tr>\n",
       "    <tr>\n",
       "      <th>835</th>\n",
       "      <td>LUKE</td>\n",
       "      <td>Chewie, I'll be waiting for your signal.</td>\n",
       "    </tr>\n",
       "    <tr>\n",
       "      <th>836</th>\n",
       "      <td>LUKE</td>\n",
       "      <td>Take care, you two.  May the Force be with you.</td>\n",
       "    </tr>\n",
       "    <tr>\n",
       "      <th>837</th>\n",
       "      <td>LUKE</td>\n",
       "      <td>Ow!</td>\n",
       "    </tr>\n",
       "  </tbody>\n",
       "</table>\n",
       "<p>838 rows × 2 columns</p>\n",
       "</div>"
      ],
      "text/plain": [
       "      Name                                             parole\n",
       "0     LUKE  Echo Three to Echo Seven.  Han, old buddy, do ...\n",
       "1      HAN                   Loud and clear, kid.  What's up?\n",
       "2     LUKE  Well, I finished my circle.  I don't pick up a...\n",
       "3      HAN  There isn't enough life on this ice cube to fi...\n",
       "4     LUKE  Right.  I'll see you shortly.  There's a meteo...\n",
       "..     ...                                                ...\n",
       "833   LUKE  I'll meet you at the rendezvous point on Tatoo...\n",
       "834  LANDO              Princess, we'll find Han.  I promise.\n",
       "835   LUKE           Chewie, I'll be waiting for your signal.\n",
       "836   LUKE    Take care, you two.  May the Force be with you.\n",
       "837   LUKE                                                Ow!\n",
       "\n",
       "[838 rows x 2 columns]"
      ]
     },
     "execution_count": 7,
     "metadata": {},
     "output_type": "execute_result"
    }
   ],
   "source": [
    "df2 = magic(rawdata2, r'(\\t{2})([a-z, A-Z].+|\\t{2}.+)(\\s)', r'(\\t{2})(.+)', delete_top = 6, delete_bottom = 2 )\n",
    "df2"
   ]
  },
  {
   "cell_type": "code",
   "execution_count": 8,
   "metadata": {},
   "outputs": [],
   "source": [
    "## saving the data frame so we can load it elsewhere\n",
    "os.path.join(os.getcwd(), '..')\n",
    "tmp1 = os.path.abspath(os.path.join(os.getcwd(), '..'))\n",
    "path = os.path.join(tmp, 'Data', 'half_pre-processed_data_2.csv')\n",
    "\n",
    "df2.to_csv(path, index=False)"
   ]
  },
  {
   "cell_type": "code",
   "execution_count": null,
   "metadata": {},
   "outputs": [],
   "source": []
  }
 ],
 "metadata": {
  "kernelspec": {
   "display_name": "Python 3",
   "language": "python",
   "name": "python3"
  },
  "language_info": {
   "codemirror_mode": {
    "name": "ipython",
    "version": 3
   },
   "file_extension": ".py",
   "mimetype": "text/x-python",
   "name": "python",
   "nbconvert_exporter": "python",
   "pygments_lexer": "ipython3",
   "version": "3.7.7"
  }
 },
 "nbformat": 4,
 "nbformat_minor": 4
}
