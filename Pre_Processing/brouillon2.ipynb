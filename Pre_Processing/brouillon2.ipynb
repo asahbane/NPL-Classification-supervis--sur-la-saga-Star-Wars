{
 "cells": [
  {
   "cell_type": "code",
   "execution_count": 75,
   "metadata": {},
   "outputs": [],
   "source": [
    "import pandas as pd\n",
    "import numpy as np\n",
    "from nltk.corpus import stopwords\n",
    "from nltk.tokenize import word_tokenize\n",
    "from nltk.tokenize import RegexpTokenizer\n",
    "from nltk.stem import WordNetLemmatizer"
   ]
  },
  {
   "cell_type": "code",
   "execution_count": 76,
   "metadata": {
    "scrolled": true
   },
   "outputs": [
    {
     "data": {
      "text/html": [
       "<div>\n",
       "<style scoped>\n",
       "    .dataframe tbody tr th:only-of-type {\n",
       "        vertical-align: middle;\n",
       "    }\n",
       "\n",
       "    .dataframe tbody tr th {\n",
       "        vertical-align: top;\n",
       "    }\n",
       "\n",
       "    .dataframe thead th {\n",
       "        text-align: right;\n",
       "    }\n",
       "</style>\n",
       "<table border=\"1\" class=\"dataframe\">\n",
       "  <thead>\n",
       "    <tr style=\"text-align: right;\">\n",
       "      <th></th>\n",
       "      <th>Name</th>\n",
       "      <th>parole</th>\n",
       "    </tr>\n",
       "  </thead>\n",
       "  <tbody>\n",
       "    <tr>\n",
       "      <th>0</th>\n",
       "      <td>THREEPIO</td>\n",
       "      <td>Did you hear that? They've shut down the main ...</td>\n",
       "    </tr>\n",
       "    <tr>\n",
       "      <th>1</th>\n",
       "      <td>THREEPIO</td>\n",
       "      <td>We're doomed!</td>\n",
       "    </tr>\n",
       "    <tr>\n",
       "      <th>2</th>\n",
       "      <td>THREEPIO</td>\n",
       "      <td>There'll be no escape for the Princess this time.</td>\n",
       "    </tr>\n",
       "    <tr>\n",
       "      <th>3</th>\n",
       "      <td>THREEPIO</td>\n",
       "      <td>What's that?</td>\n",
       "    </tr>\n",
       "    <tr>\n",
       "      <th>4</th>\n",
       "      <td>THREEPIO</td>\n",
       "      <td>I should have known better than to trust the l...</td>\n",
       "    </tr>\n",
       "    <tr>\n",
       "      <th>...</th>\n",
       "      <td>...</td>\n",
       "      <td>...</td>\n",
       "    </tr>\n",
       "    <tr>\n",
       "      <th>997</th>\n",
       "      <td>LUKE</td>\n",
       "      <td>Oh, no!</td>\n",
       "    </tr>\n",
       "    <tr>\n",
       "      <th>998</th>\n",
       "      <td>THREEPIO</td>\n",
       "      <td>Oh, my! Artoo! Can you hear me? Say something!...</td>\n",
       "    </tr>\n",
       "    <tr>\n",
       "      <th>999</th>\n",
       "      <td>TECHNICIAN</td>\n",
       "      <td>We'll get to work on him right away.</td>\n",
       "    </tr>\n",
       "    <tr>\n",
       "      <th>1000</th>\n",
       "      <td>THREEPIO</td>\n",
       "      <td>You must repair him! Sir, if any of my circuit...</td>\n",
       "    </tr>\n",
       "    <tr>\n",
       "      <th>1001</th>\n",
       "      <td>LUKE</td>\n",
       "      <td>He'll be all right.</td>\n",
       "    </tr>\n",
       "  </tbody>\n",
       "</table>\n",
       "<p>1002 rows × 2 columns</p>\n",
       "</div>"
      ],
      "text/plain": [
       "            Name                                             parole\n",
       "0       THREEPIO  Did you hear that? They've shut down the main ...\n",
       "1       THREEPIO                                      We're doomed!\n",
       "2       THREEPIO  There'll be no escape for the Princess this time.\n",
       "3       THREEPIO                                       What's that?\n",
       "4       THREEPIO  I should have known better than to trust the l...\n",
       "...          ...                                                ...\n",
       "997         LUKE                                            Oh, no!\n",
       "998     THREEPIO  Oh, my! Artoo! Can you hear me? Say something!...\n",
       "999   TECHNICIAN               We'll get to work on him right away.\n",
       "1000    THREEPIO  You must repair him! Sir, if any of my circuit...\n",
       "1001        LUKE                                He'll be all right.\n",
       "\n",
       "[1002 rows x 2 columns]"
      ]
     },
     "execution_count": 76,
     "metadata": {},
     "output_type": "execute_result"
    }
   ],
   "source": [
    "import os \n",
    "os.path.join(os.getcwd(), '..')\n",
    "tmp = os.path.abspath(os.path.join(os.getcwd(), '..'))\n",
    "path = os.path.join(tmp, 'Data', 'half_processed_data.csv')\n",
    "df = pd.read_csv(path) \n",
    "df"
   ]
  },
  {
   "cell_type": "code",
   "execution_count": 105,
   "metadata": {},
   "outputs": [],
   "source": [
    "stop_words = set(stopwords.words(\"english\"))\n",
    "# stop_words"
   ]
  },
  {
   "cell_type": "code",
   "execution_count": 175,
   "metadata": {
    "scrolled": true
   },
   "outputs": [],
   "source": [
    "# ## exemple\n",
    "# words = word_tokenize(df['parole'][998])\n",
    "# words\n",
    "# # words\n",
    "# filtered_sentence = [w for w in words if not w in stop_words]\n",
    "# # filtered_sentence"
   ]
  },
  {
   "cell_type": "code",
   "execution_count": 103,
   "metadata": {},
   "outputs": [],
   "source": [
    "# string = df['parole'][0].replace(\"'\", \" \") \n",
    "# string = string.lower()\n",
    "# string\n",
    "\n",
    "# words = word_tokenize(string)\n",
    "# words\n",
    "# filtered_sentence = [w for w in words if not w in stop_words]\n",
    "# filtered_sentence"
   ]
  },
  {
   "cell_type": "code",
   "execution_count": 174,
   "metadata": {},
   "outputs": [],
   "source": [
    "# ## this is it\n",
    "# hope = df['parole'][0]\n",
    "# hope = hope.lower()\n",
    "# tokenizer = RegexpTokenizer(r'\\w+')\n",
    "# words = tokenizer.tokenize(hope)\n",
    "# filtered_sentence = [w for w in words if not w in stop_words]\n",
    "# filtered_sentence"
   ]
  },
  {
   "cell_type": "code",
   "execution_count": 123,
   "metadata": {},
   "outputs": [
    {
     "data": {
      "text/plain": [
       "'good'"
      ]
     },
     "execution_count": 123,
     "metadata": {},
     "output_type": "execute_result"
    }
   ],
   "source": [
    "# lemmatizer = WordNetLemmatizer()\n",
    "# lemmatizer.lemmatize(\"better\", pos =\"a\")"
   ]
  },
  {
   "cell_type": "code",
   "execution_count": 77,
   "metadata": {},
   "outputs": [],
   "source": [
    "## fonction pour enlever les répititions \n",
    "def unique(lst):\n",
    "    res = []\n",
    "    for x in lst:\n",
    "        if x not in res:\n",
    "            res.append(x)\n",
    "    return res"
   ]
  },
  {
   "cell_type": "code",
   "execution_count": 87,
   "metadata": {},
   "outputs": [],
   "source": [
    "## Let's creat a function\n",
    "## cette fonction va prendre une chaine de caractères\n",
    "## et va sortir une liste des vocabulaire important dans cette chaie de caractères\n",
    "def filtre(str):\n",
    "    stop_words = set(stopwords.words(\"english\"))\n",
    "    lemmatizer = WordNetLemmatizer()\n",
    "    ## on va mettre tout en miniscule\n",
    "    str = str.lower()\n",
    "    ## on va créer un 'pattern' \n",
    "    ## \\w désigne un alphanumerique\n",
    "    ## c à d qu'on cheche tout morceaux composé d'alphanumériques\n",
    "    tokenizer = RegexpTokenizer(r'\\w+')\n",
    "    ## on va sépparer la chaine de caractère \n",
    "    words = tokenizer.tokenize(str)\n",
    "    ## on va enlever les \"stopwords\"\n",
    "    filtered_sentence = [w for w in words if not w in stop_words]\n",
    "    ## par une boucle on va trouver les mots apparteneant au même champ lexicale\n",
    "    for i in range (len(filtered_sentence)):\n",
    "        filtered_sentence[i] = lemmatizer.lemmatize(filtered_sentence[i])\n",
    "    ## on va enlever les répitition \n",
    "    filtered_sentence = unique(filtered_sentence)\n",
    "    return filtered_sentence"
   ]
  },
  {
   "cell_type": "code",
   "execution_count": 88,
   "metadata": {},
   "outputs": [
    {
     "name": "stdout",
     "output_type": "stream",
     "text": [
      "Did you hear that? They've shut down the main reactor. We'll be destroyed for sure. This is madness!\n",
      "['hear', 'shut', 'main', 'reactor', 'destroyed', 'sure', 'madness']\n"
     ]
    }
   ],
   "source": [
    "print(df['parole'][0])\n",
    "print(filtre(df['parole'][0]))"
   ]
  },
  {
   "cell_type": "code",
   "execution_count": 89,
   "metadata": {
    "scrolled": true
   },
   "outputs": [
    {
     "data": {
      "text/html": [
       "<div>\n",
       "<style scoped>\n",
       "    .dataframe tbody tr th:only-of-type {\n",
       "        vertical-align: middle;\n",
       "    }\n",
       "\n",
       "    .dataframe tbody tr th {\n",
       "        vertical-align: top;\n",
       "    }\n",
       "\n",
       "    .dataframe thead th {\n",
       "        text-align: right;\n",
       "    }\n",
       "</style>\n",
       "<table border=\"1\" class=\"dataframe\">\n",
       "  <thead>\n",
       "    <tr style=\"text-align: right;\">\n",
       "      <th></th>\n",
       "      <th>Name</th>\n",
       "      <th>parole</th>\n",
       "      <th>paroles_traités</th>\n",
       "    </tr>\n",
       "  </thead>\n",
       "  <tbody>\n",
       "    <tr>\n",
       "      <th>0</th>\n",
       "      <td>THREEPIO</td>\n",
       "      <td>Did you hear that? They've shut down the main ...</td>\n",
       "      <td>[hear, shut, main, reactor, destroyed, sure, m...</td>\n",
       "    </tr>\n",
       "    <tr>\n",
       "      <th>1</th>\n",
       "      <td>THREEPIO</td>\n",
       "      <td>We're doomed!</td>\n",
       "      <td>[doomed]</td>\n",
       "    </tr>\n",
       "    <tr>\n",
       "      <th>2</th>\n",
       "      <td>THREEPIO</td>\n",
       "      <td>There'll be no escape for the Princess this time.</td>\n",
       "      <td>[escape, princess, time]</td>\n",
       "    </tr>\n",
       "    <tr>\n",
       "      <th>3</th>\n",
       "      <td>THREEPIO</td>\n",
       "      <td>What's that?</td>\n",
       "      <td>[]</td>\n",
       "    </tr>\n",
       "    <tr>\n",
       "      <th>4</th>\n",
       "      <td>THREEPIO</td>\n",
       "      <td>I should have known better than to trust the l...</td>\n",
       "      <td>[known, better, trust, logic, half, sized, the...</td>\n",
       "    </tr>\n",
       "    <tr>\n",
       "      <th>...</th>\n",
       "      <td>...</td>\n",
       "      <td>...</td>\n",
       "      <td>...</td>\n",
       "    </tr>\n",
       "    <tr>\n",
       "      <th>997</th>\n",
       "      <td>LUKE</td>\n",
       "      <td>Oh, no!</td>\n",
       "      <td>[oh]</td>\n",
       "    </tr>\n",
       "    <tr>\n",
       "      <th>998</th>\n",
       "      <td>THREEPIO</td>\n",
       "      <td>Oh, my! Artoo! Can you hear me? Say something!...</td>\n",
       "      <td>[oh, artoo, hear, say, something, mechanic, re...</td>\n",
       "    </tr>\n",
       "    <tr>\n",
       "      <th>999</th>\n",
       "      <td>TECHNICIAN</td>\n",
       "      <td>We'll get to work on him right away.</td>\n",
       "      <td>[get, work, right, away]</td>\n",
       "    </tr>\n",
       "    <tr>\n",
       "      <th>1000</th>\n",
       "      <td>THREEPIO</td>\n",
       "      <td>You must repair him! Sir, if any of my circuit...</td>\n",
       "      <td>[must, repair, sir, circuit, gear, help, gladl...</td>\n",
       "    </tr>\n",
       "    <tr>\n",
       "      <th>1001</th>\n",
       "      <td>LUKE</td>\n",
       "      <td>He'll be all right.</td>\n",
       "      <td>[right]</td>\n",
       "    </tr>\n",
       "  </tbody>\n",
       "</table>\n",
       "<p>1002 rows × 3 columns</p>\n",
       "</div>"
      ],
      "text/plain": [
       "            Name                                             parole  \\\n",
       "0       THREEPIO  Did you hear that? They've shut down the main ...   \n",
       "1       THREEPIO                                      We're doomed!   \n",
       "2       THREEPIO  There'll be no escape for the Princess this time.   \n",
       "3       THREEPIO                                       What's that?   \n",
       "4       THREEPIO  I should have known better than to trust the l...   \n",
       "...          ...                                                ...   \n",
       "997         LUKE                                            Oh, no!   \n",
       "998     THREEPIO  Oh, my! Artoo! Can you hear me? Say something!...   \n",
       "999   TECHNICIAN               We'll get to work on him right away.   \n",
       "1000    THREEPIO  You must repair him! Sir, if any of my circuit...   \n",
       "1001        LUKE                                He'll be all right.   \n",
       "\n",
       "                                        paroles_traités  \n",
       "0     [hear, shut, main, reactor, destroyed, sure, m...  \n",
       "1                                              [doomed]  \n",
       "2                              [escape, princess, time]  \n",
       "3                                                    []  \n",
       "4     [known, better, trust, logic, half, sized, the...  \n",
       "...                                                 ...  \n",
       "997                                                [oh]  \n",
       "998   [oh, artoo, hear, say, something, mechanic, re...  \n",
       "999                            [get, work, right, away]  \n",
       "1000  [must, repair, sir, circuit, gear, help, gladl...  \n",
       "1001                                            [right]  \n",
       "\n",
       "[1002 rows x 3 columns]"
      ]
     },
     "execution_count": 89,
     "metadata": {},
     "output_type": "execute_result"
    }
   ],
   "source": [
    "## fonction qui transforme notre pandas \n",
    "## elle va rajouter une autre colonne de paroles traités\n",
    "def magic2(df):\n",
    "    temp = []\n",
    "    for i in range(len(df)):\n",
    "        temp.append(filtre(df['parole'][i]))\n",
    "    df['paroles_traités']= temp\n",
    "    return df\n",
    "magic2(df)\n"
   ]
  },
  {
   "cell_type": "markdown",
   "metadata": {},
   "source": [
    "# indicateurs statistiques"
   ]
  },
  {
   "cell_type": "code",
   "execution_count": 20,
   "metadata": {
    "scrolled": true
   },
   "outputs": [
    {
     "data": {
      "text/html": [
       "<div>\n",
       "<style scoped>\n",
       "    .dataframe tbody tr th:only-of-type {\n",
       "        vertical-align: middle;\n",
       "    }\n",
       "\n",
       "    .dataframe tbody tr th {\n",
       "        vertical-align: top;\n",
       "    }\n",
       "\n",
       "    .dataframe thead th {\n",
       "        text-align: right;\n",
       "    }\n",
       "</style>\n",
       "<table border=\"1\" class=\"dataframe\">\n",
       "  <thead>\n",
       "    <tr style=\"text-align: right;\">\n",
       "      <th></th>\n",
       "      <th>Name</th>\n",
       "      <th>number_of_speches</th>\n",
       "    </tr>\n",
       "  </thead>\n",
       "  <tbody>\n",
       "    <tr>\n",
       "      <th>0</th>\n",
       "      <td>THREEPIO</td>\n",
       "      <td>119</td>\n",
       "    </tr>\n",
       "    <tr>\n",
       "      <th>1</th>\n",
       "      <td>LUKE</td>\n",
       "      <td>252</td>\n",
       "    </tr>\n",
       "    <tr>\n",
       "      <th>2</th>\n",
       "      <td>IMPERIAL OFFICER</td>\n",
       "      <td>2</td>\n",
       "    </tr>\n",
       "    <tr>\n",
       "      <th>3</th>\n",
       "      <td>VADER</td>\n",
       "      <td>42</td>\n",
       "    </tr>\n",
       "    <tr>\n",
       "      <th>4</th>\n",
       "      <td>REBEL OFFICER</td>\n",
       "      <td>1</td>\n",
       "    </tr>\n",
       "    <tr>\n",
       "      <th>...</th>\n",
       "      <td>...</td>\n",
       "      <td>...</td>\n",
       "    </tr>\n",
       "    <tr>\n",
       "      <th>62</th>\n",
       "      <td>RED NINE'S VOICE</td>\n",
       "      <td>1</td>\n",
       "    </tr>\n",
       "    <tr>\n",
       "      <th>63</th>\n",
       "      <td>DEATH STAR INTERCOM VOICE</td>\n",
       "      <td>4</td>\n",
       "    </tr>\n",
       "    <tr>\n",
       "      <th>64</th>\n",
       "      <td>BASE VOICE</td>\n",
       "      <td>1</td>\n",
       "    </tr>\n",
       "    <tr>\n",
       "      <th>65</th>\n",
       "      <td>WINGMAN</td>\n",
       "      <td>1</td>\n",
       "    </tr>\n",
       "    <tr>\n",
       "      <th>66</th>\n",
       "      <td>TECHNICIAN</td>\n",
       "      <td>1</td>\n",
       "    </tr>\n",
       "  </tbody>\n",
       "</table>\n",
       "<p>67 rows × 2 columns</p>\n",
       "</div>"
      ],
      "text/plain": [
       "                         Name  number_of_speches\n",
       "0                    THREEPIO                119\n",
       "1                        LUKE                252\n",
       "2            IMPERIAL OFFICER                  2\n",
       "3                       VADER                 42\n",
       "4               REBEL OFFICER                  1\n",
       "..                        ...                ...\n",
       "62           RED NINE'S VOICE                  1\n",
       "63  DEATH STAR INTERCOM VOICE                  4\n",
       "64                 BASE VOICE                  1\n",
       "65                    WINGMAN                  1\n",
       "66                 TECHNICIAN                  1\n",
       "\n",
       "[67 rows x 2 columns]"
      ]
     },
     "execution_count": 20,
     "metadata": {},
     "output_type": "execute_result"
    }
   ],
   "source": [
    "## is1 : nombre de paroles pour chaque personnage\n",
    "## deux lignes de code \"THUG LIFE\"\n",
    "from collections import Counter\n",
    "is1 = pd.DataFrame.from_dict(Counter(df['Name']), orient='index').reset_index()\n",
    "is1 = is1.rename(columns={'index':'Name', 0:'number_of_speches'})\n",
    "is1"
   ]
  },
  {
   "cell_type": "code",
   "execution_count": 90,
   "metadata": {},
   "outputs": [],
   "source": []
  },
  {
   "cell_type": "code",
   "execution_count": 112,
   "metadata": {
    "scrolled": false
   },
   "outputs": [
    {
     "data": {
      "text/plain": [
       "Text(104.875, 0.5, 'number of speches')"
      ]
     },
     "execution_count": 112,
     "metadata": {},
     "output_type": "execute_result"
    },
    {
     "data": {
      "image/png": "[encoded data removed]",
      "text/plain": [
       "<Figure size 1080x648 with 1 Axes>"
      ]
     },
     "metadata": {
      "needs_background": "light"
     },
     "output_type": "display_data"
    }
   ],
   "source": [
    "from matplotlib.pyplot import hist\n",
    "fig = plt.figure(figsize=(15,9))\n",
    "ax = fig.add_subplot(111)\n",
    "hist(is1.Name, weights=is1.number_of_speches,density=False, bins = 66)\n",
    "y_pos = range(len(is1.Name))\n",
    "plt.xticks(y_pos, is1.Name, rotation=90)\n",
    "plt.tight_layout()\n",
    "ax.set_xlabel('Name')\n",
    "ax.set_ylabel('number of speches')"
   ]
  },
  {
   "cell_type": "code",
   "execution_count": 74,
   "metadata": {},
   "outputs": [],
   "source": []
  },
  {
   "cell_type": "code",
   "execution_count": 65,
   "metadata": {},
   "outputs": [],
   "source": []
  }
 ],
 "metadata": {
  "kernelspec": {
   "display_name": "Python 3",
   "language": "python",
   "name": "python3"
  },
  "language_info": {
   "codemirror_mode": {
    "name": "ipython",
    "version": 3
   },
   "file_extension": ".py",
   "mimetype": "text/x-python",
   "name": "python",
   "nbconvert_exporter": "python",
   "pygments_lexer": "ipython3",
   "version": "3.7.7"
  }
 },
 "nbformat": 4,
 "nbformat_minor": 4
}
